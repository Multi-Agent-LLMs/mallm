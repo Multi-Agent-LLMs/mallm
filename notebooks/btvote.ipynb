{
 "cells": [
  {
   "metadata": {
    "ExecuteTime": {
     "end_time": "2024-05-06T13:59:42.599827Z",
     "start_time": "2024-05-06T13:59:42.593046Z"
    }
   },
   "cell_type": "code",
   "source": [
    "import requests\n",
    "\n",
    "def list_files(dataset_persistent_id):\n",
    "    base_url = \"https://dataverse.harvard.edu/api/datasets/:persistentId\"\n",
    "    params = {\n",
    "        'persistentId': dataset_persistent_id,\n",
    "    }\n",
    "    response = requests.get(f\"{base_url}/versions/:latest/files\", params=params)\n",
    "    file_ids = []\n",
    "    if response.status_code == 200:\n",
    "        data = response.json()\n",
    "        for item in data['data']:\n",
    "            file_ids.append(item['dataFile']['id'])\n",
    "            print(f\"File ID: {item['dataFile']['id']}, File Name: {item['dataFile']['filename']}\")\n",
    "    else:\n",
    "        print(\"Failed to retrieve files. Status code:\", response.status_code)\n",
    "    return file_ids\n",
    "\n"
   ],
   "id": "3ef9acbfbdcd692c",
   "outputs": [],
   "execution_count": 12
  },
  {
   "metadata": {
    "ExecuteTime": {
     "end_time": "2024-05-06T15:08:00.267517Z",
     "start_time": "2024-05-06T15:08:00.262846Z"
    }
   },
   "cell_type": "code",
   "source": [
    "def download_file(file_id, filename):\n",
    "    # The correct base URL and endpoint to download a file using its file ID\n",
    "    download_url = f\"https://dataverse.harvard.edu/api/access/datafile/{file_id}\"\n",
    "    \n",
    "    # Making the GET request to download the file\n",
    "    response = requests.get(download_url)\n",
    "    if response.status_code == 200:\n",
    "        with open(filename, 'wb') as f:\n",
    "            f.write(response.content)\n",
    "        print(f\"Downloaded {filename}\")\n",
    "    else:\n",
    "        print(f\"Failed to download file. Status code: {response.status_code}\")\n"
   ],
   "id": "2623388ef32c5334",
   "outputs": [],
   "execution_count": 55
  },
  {
   "metadata": {
    "ExecuteTime": {
     "end_time": "2024-05-06T15:08:03.174023Z",
     "start_time": "2024-05-06T15:08:00.683752Z"
    }
   },
   "cell_type": "code",
   "source": [
    "file_ids_vote_behaviour = list_files(\"doi:10.7910/DVN/24U1FR\")\n",
    "file_ids_characteristics = list_files(\"doi:10.7910/DVN/QSFXLQ\")\n",
    "file_ids_vote_characteristics = list_files(\"doi:10.7910/DVN/AHBBXY\")"
   ],
   "id": "5ca86b86e2789e11",
   "outputs": [
    {
     "name": "stdout",
     "output_type": "stream",
     "text": [
      "File ID: 3184762, File Name: voting_behavior.dta\n",
      "File ID: 6402445, File Name: voting_behavior_V2_19492021.dta\n",
      "File ID: 3184760, File Name: mp_characteristics.dta\n",
      "File ID: 6402444, File Name: mp_characteristics_V2_19492021.tab\n",
      "File ID: 6402442, File Name: vote_characteristics_V2_19492021.tab\n"
     ]
    }
   ],
   "execution_count": 56
  },
  {
   "metadata": {
    "ExecuteTime": {
     "end_time": "2024-05-06T15:11:01.057906Z",
     "start_time": "2024-05-06T15:08:03.176102Z"
    }
   },
   "cell_type": "code",
   "source": [
    "download_file(file_ids_vote_behaviour[1], \"data/behaviour.dta\")\n",
    "download_file(file_ids_characteristics[1], \"data/characteristics.tab\")\n",
    "download_file(file_ids_vote_characteristics[0], \"data/vote_characteristics.tab\")"
   ],
   "id": "3059ff586a280f6",
   "outputs": [
    {
     "name": "stdout",
     "output_type": "stream",
     "text": [
      "Downloaded data/behaviour.dta\n",
      "Downloaded data/characteristics.tab\n",
      "Downloaded data/vote_characteristics.tab\n"
     ]
    }
   ],
   "execution_count": 57
  },
  {
   "metadata": {
    "ExecuteTime": {
     "end_time": "2024-05-13T10:29:15.787355Z",
     "start_time": "2024-05-13T10:29:14.341070Z"
    }
   },
   "cell_type": "code",
   "source": [
    "import pandas as pd\n",
    "\n",
    "data_behaviour = pd.read_stata(\"data/behaviour.dta\")\n",
    "data_characteristics = pd.read_csv('data/characteristics.tab', delimiter='\\t', encoding='ISO-8859-1')  \n",
    "data_vote_characteristics = pd.read_csv('data/vote_characteristics.tab', delimiter='\\t', encoding='ISO-8859-1')  "
   ],
   "id": "4d2087c57719911",
   "outputs": [
    {
     "ename": "FileNotFoundError",
     "evalue": "[Errno 2] No such file or directory: 'data/behaviour.dta'",
     "output_type": "error",
     "traceback": [
      "\u001B[1;31m---------------------------------------------------------------------------\u001B[0m",
      "\u001B[1;31mFileNotFoundError\u001B[0m                         Traceback (most recent call last)",
      "Cell \u001B[1;32mIn[1], line 3\u001B[0m\n\u001B[0;32m      1\u001B[0m \u001B[38;5;28;01mimport\u001B[39;00m \u001B[38;5;21;01mpandas\u001B[39;00m \u001B[38;5;28;01mas\u001B[39;00m \u001B[38;5;21;01mpd\u001B[39;00m\n\u001B[1;32m----> 3\u001B[0m data_behaviour \u001B[38;5;241m=\u001B[39m \u001B[43mpd\u001B[49m\u001B[38;5;241;43m.\u001B[39;49m\u001B[43mread_stata\u001B[49m\u001B[43m(\u001B[49m\u001B[38;5;124;43m\"\u001B[39;49m\u001B[38;5;124;43mdata/behaviour.dta\u001B[39;49m\u001B[38;5;124;43m\"\u001B[39;49m\u001B[43m)\u001B[49m\n\u001B[0;32m      4\u001B[0m data_characteristics \u001B[38;5;241m=\u001B[39m pd\u001B[38;5;241m.\u001B[39mread_csv(\u001B[38;5;124m'\u001B[39m\u001B[38;5;124mdata/characteristics.tab\u001B[39m\u001B[38;5;124m'\u001B[39m, delimiter\u001B[38;5;241m=\u001B[39m\u001B[38;5;124m'\u001B[39m\u001B[38;5;130;01m\\t\u001B[39;00m\u001B[38;5;124m'\u001B[39m, encoding\u001B[38;5;241m=\u001B[39m\u001B[38;5;124m'\u001B[39m\u001B[38;5;124mISO-8859-1\u001B[39m\u001B[38;5;124m'\u001B[39m)  \n\u001B[0;32m      5\u001B[0m data_vote_characteristics \u001B[38;5;241m=\u001B[39m pd\u001B[38;5;241m.\u001B[39mread_csv(\u001B[38;5;124m'\u001B[39m\u001B[38;5;124mdata/vote_characteristics.tab\u001B[39m\u001B[38;5;124m'\u001B[39m, delimiter\u001B[38;5;241m=\u001B[39m\u001B[38;5;124m'\u001B[39m\u001B[38;5;130;01m\\t\u001B[39;00m\u001B[38;5;124m'\u001B[39m, encoding\u001B[38;5;241m=\u001B[39m\u001B[38;5;124m'\u001B[39m\u001B[38;5;124mISO-8859-1\u001B[39m\u001B[38;5;124m'\u001B[39m)  \n",
      "File \u001B[1;32m~\\anaconda3\\envs\\mallm\\Lib\\site-packages\\pandas\\io\\stata.py:2109\u001B[0m, in \u001B[0;36mread_stata\u001B[1;34m(filepath_or_buffer, convert_dates, convert_categoricals, index_col, convert_missing, preserve_dtypes, columns, order_categoricals, chunksize, iterator, compression, storage_options)\u001B[0m\n\u001B[0;32m   2106\u001B[0m     \u001B[38;5;28;01mreturn\u001B[39;00m reader\n\u001B[0;32m   2108\u001B[0m \u001B[38;5;28;01mwith\u001B[39;00m reader:\n\u001B[1;32m-> 2109\u001B[0m     \u001B[38;5;28;01mreturn\u001B[39;00m \u001B[43mreader\u001B[49m\u001B[38;5;241;43m.\u001B[39;49m\u001B[43mread\u001B[49m\u001B[43m(\u001B[49m\u001B[43m)\u001B[49m\n",
      "File \u001B[1;32m~\\anaconda3\\envs\\mallm\\Lib\\site-packages\\pandas\\io\\stata.py:1683\u001B[0m, in \u001B[0;36mStataReader.read\u001B[1;34m(self, nrows, convert_dates, convert_categoricals, index_col, convert_missing, preserve_dtypes, columns, order_categoricals)\u001B[0m\n\u001B[0;32m   1671\u001B[0m \u001B[38;5;129m@Appender\u001B[39m(_read_method_doc)\n\u001B[0;32m   1672\u001B[0m \u001B[38;5;28;01mdef\u001B[39;00m \u001B[38;5;21mread\u001B[39m(\n\u001B[0;32m   1673\u001B[0m     \u001B[38;5;28mself\u001B[39m,\n\u001B[1;32m   (...)\u001B[0m\n\u001B[0;32m   1681\u001B[0m     order_categoricals: \u001B[38;5;28mbool\u001B[39m \u001B[38;5;241m|\u001B[39m \u001B[38;5;28;01mNone\u001B[39;00m \u001B[38;5;241m=\u001B[39m \u001B[38;5;28;01mNone\u001B[39;00m,\n\u001B[0;32m   1682\u001B[0m ) \u001B[38;5;241m-\u001B[39m\u001B[38;5;241m>\u001B[39m DataFrame:\n\u001B[1;32m-> 1683\u001B[0m     \u001B[38;5;28;43mself\u001B[39;49m\u001B[38;5;241;43m.\u001B[39;49m\u001B[43m_ensure_open\u001B[49m\u001B[43m(\u001B[49m\u001B[43m)\u001B[49m\n\u001B[0;32m   1685\u001B[0m     \u001B[38;5;66;03m# Handle options\u001B[39;00m\n\u001B[0;32m   1686\u001B[0m     \u001B[38;5;28;01mif\u001B[39;00m convert_dates \u001B[38;5;129;01mis\u001B[39;00m \u001B[38;5;28;01mNone\u001B[39;00m:\n",
      "File \u001B[1;32m~\\anaconda3\\envs\\mallm\\Lib\\site-packages\\pandas\\io\\stata.py:1175\u001B[0m, in \u001B[0;36mStataReader._ensure_open\u001B[1;34m(self)\u001B[0m\n\u001B[0;32m   1171\u001B[0m \u001B[38;5;250m\u001B[39m\u001B[38;5;124;03m\"\"\"\u001B[39;00m\n\u001B[0;32m   1172\u001B[0m \u001B[38;5;124;03mEnsure the file has been opened and its header data read.\u001B[39;00m\n\u001B[0;32m   1173\u001B[0m \u001B[38;5;124;03m\"\"\"\u001B[39;00m\n\u001B[0;32m   1174\u001B[0m \u001B[38;5;28;01mif\u001B[39;00m \u001B[38;5;129;01mnot\u001B[39;00m \u001B[38;5;28mhasattr\u001B[39m(\u001B[38;5;28mself\u001B[39m, \u001B[38;5;124m\"\u001B[39m\u001B[38;5;124m_path_or_buf\u001B[39m\u001B[38;5;124m\"\u001B[39m):\n\u001B[1;32m-> 1175\u001B[0m     \u001B[38;5;28;43mself\u001B[39;49m\u001B[38;5;241;43m.\u001B[39;49m\u001B[43m_open_file\u001B[49m\u001B[43m(\u001B[49m\u001B[43m)\u001B[49m\n",
      "File \u001B[1;32m~\\anaconda3\\envs\\mallm\\Lib\\site-packages\\pandas\\io\\stata.py:1188\u001B[0m, in \u001B[0;36mStataReader._open_file\u001B[1;34m(self)\u001B[0m\n\u001B[0;32m   1181\u001B[0m \u001B[38;5;28;01mif\u001B[39;00m \u001B[38;5;129;01mnot\u001B[39;00m \u001B[38;5;28mself\u001B[39m\u001B[38;5;241m.\u001B[39m_entered:\n\u001B[0;32m   1182\u001B[0m     warnings\u001B[38;5;241m.\u001B[39mwarn(\n\u001B[0;32m   1183\u001B[0m         \u001B[38;5;124m\"\u001B[39m\u001B[38;5;124mStataReader is being used without using a context manager. \u001B[39m\u001B[38;5;124m\"\u001B[39m\n\u001B[0;32m   1184\u001B[0m         \u001B[38;5;124m\"\u001B[39m\u001B[38;5;124mUsing StataReader as a context manager is the only supported method.\u001B[39m\u001B[38;5;124m\"\u001B[39m,\n\u001B[0;32m   1185\u001B[0m         \u001B[38;5;167;01mResourceWarning\u001B[39;00m,\n\u001B[0;32m   1186\u001B[0m         stacklevel\u001B[38;5;241m=\u001B[39mfind_stack_level(),\n\u001B[0;32m   1187\u001B[0m     )\n\u001B[1;32m-> 1188\u001B[0m handles \u001B[38;5;241m=\u001B[39m \u001B[43mget_handle\u001B[49m\u001B[43m(\u001B[49m\n\u001B[0;32m   1189\u001B[0m \u001B[43m    \u001B[49m\u001B[38;5;28;43mself\u001B[39;49m\u001B[38;5;241;43m.\u001B[39;49m\u001B[43m_original_path_or_buf\u001B[49m\u001B[43m,\u001B[49m\n\u001B[0;32m   1190\u001B[0m \u001B[43m    \u001B[49m\u001B[38;5;124;43m\"\u001B[39;49m\u001B[38;5;124;43mrb\u001B[39;49m\u001B[38;5;124;43m\"\u001B[39;49m\u001B[43m,\u001B[49m\n\u001B[0;32m   1191\u001B[0m \u001B[43m    \u001B[49m\u001B[43mstorage_options\u001B[49m\u001B[38;5;241;43m=\u001B[39;49m\u001B[38;5;28;43mself\u001B[39;49m\u001B[38;5;241;43m.\u001B[39;49m\u001B[43m_storage_options\u001B[49m\u001B[43m,\u001B[49m\n\u001B[0;32m   1192\u001B[0m \u001B[43m    \u001B[49m\u001B[43mis_text\u001B[49m\u001B[38;5;241;43m=\u001B[39;49m\u001B[38;5;28;43;01mFalse\u001B[39;49;00m\u001B[43m,\u001B[49m\n\u001B[0;32m   1193\u001B[0m \u001B[43m    \u001B[49m\u001B[43mcompression\u001B[49m\u001B[38;5;241;43m=\u001B[39;49m\u001B[38;5;28;43mself\u001B[39;49m\u001B[38;5;241;43m.\u001B[39;49m\u001B[43m_compression\u001B[49m\u001B[43m,\u001B[49m\n\u001B[0;32m   1194\u001B[0m \u001B[43m\u001B[49m\u001B[43m)\u001B[49m\n\u001B[0;32m   1195\u001B[0m \u001B[38;5;28;01mif\u001B[39;00m \u001B[38;5;28mhasattr\u001B[39m(handles\u001B[38;5;241m.\u001B[39mhandle, \u001B[38;5;124m\"\u001B[39m\u001B[38;5;124mseekable\u001B[39m\u001B[38;5;124m\"\u001B[39m) \u001B[38;5;129;01mand\u001B[39;00m handles\u001B[38;5;241m.\u001B[39mhandle\u001B[38;5;241m.\u001B[39mseekable():\n\u001B[0;32m   1196\u001B[0m     \u001B[38;5;66;03m# If the handle is directly seekable, use it without an extra copy.\u001B[39;00m\n\u001B[0;32m   1197\u001B[0m     \u001B[38;5;28mself\u001B[39m\u001B[38;5;241m.\u001B[39m_path_or_buf \u001B[38;5;241m=\u001B[39m handles\u001B[38;5;241m.\u001B[39mhandle\n",
      "File \u001B[1;32m~\\anaconda3\\envs\\mallm\\Lib\\site-packages\\pandas\\io\\common.py:882\u001B[0m, in \u001B[0;36mget_handle\u001B[1;34m(path_or_buf, mode, encoding, compression, memory_map, is_text, errors, storage_options)\u001B[0m\n\u001B[0;32m    873\u001B[0m         handle \u001B[38;5;241m=\u001B[39m \u001B[38;5;28mopen\u001B[39m(\n\u001B[0;32m    874\u001B[0m             handle,\n\u001B[0;32m    875\u001B[0m             ioargs\u001B[38;5;241m.\u001B[39mmode,\n\u001B[1;32m   (...)\u001B[0m\n\u001B[0;32m    878\u001B[0m             newline\u001B[38;5;241m=\u001B[39m\u001B[38;5;124m\"\u001B[39m\u001B[38;5;124m\"\u001B[39m,\n\u001B[0;32m    879\u001B[0m         )\n\u001B[0;32m    880\u001B[0m     \u001B[38;5;28;01melse\u001B[39;00m:\n\u001B[0;32m    881\u001B[0m         \u001B[38;5;66;03m# Binary mode\u001B[39;00m\n\u001B[1;32m--> 882\u001B[0m         handle \u001B[38;5;241m=\u001B[39m \u001B[38;5;28;43mopen\u001B[39;49m\u001B[43m(\u001B[49m\u001B[43mhandle\u001B[49m\u001B[43m,\u001B[49m\u001B[43m \u001B[49m\u001B[43mioargs\u001B[49m\u001B[38;5;241;43m.\u001B[39;49m\u001B[43mmode\u001B[49m\u001B[43m)\u001B[49m\n\u001B[0;32m    883\u001B[0m     handles\u001B[38;5;241m.\u001B[39mappend(handle)\n\u001B[0;32m    885\u001B[0m \u001B[38;5;66;03m# Convert BytesIO or file objects passed with an encoding\u001B[39;00m\n",
      "\u001B[1;31mFileNotFoundError\u001B[0m: [Errno 2] No such file or directory: 'data/behaviour.dta'"
     ]
    }
   ],
   "execution_count": 1
  },
  {
   "metadata": {
    "ExecuteTime": {
     "end_time": "2024-05-13T10:29:15.789362Z",
     "start_time": "2024-05-13T10:29:15.788361Z"
    }
   },
   "cell_type": "code",
   "source": [
    "data_behaviour"
   ],
   "id": "785dba5c049f2486",
   "outputs": [],
   "execution_count": null
  },
  {
   "metadata": {
    "ExecuteTime": {
     "start_time": "2024-05-13T10:29:15.790362Z"
    }
   },
   "cell_type": "code",
   "source": [
    "data_characteristics"
   ],
   "id": "f2b5309ec9208280",
   "outputs": [],
   "execution_count": null
  },
  {
   "metadata": {
    "ExecuteTime": {
     "start_time": "2024-05-13T10:29:15.791362Z"
    }
   },
   "cell_type": "code",
   "source": [
    "data_vote_characteristics"
   ],
   "id": "1ffc64ae5dd2a51f",
   "outputs": [],
   "execution_count": null
  },
  {
   "metadata": {
    "ExecuteTime": {
     "start_time": "2024-05-13T10:29:15.792362Z"
    }
   },
   "cell_type": "code",
   "source": [
    "data_behaviour.where(data_behaviour['vote_id'] == 1001).dropna().vote_beh.value_counts()"
   ],
   "id": "bb1824d2e796a857",
   "outputs": [],
   "execution_count": null
  },
  {
   "cell_type": "code",
   "outputs": [],
   "source": [],
   "metadata": {
    "collapsed": false
   },
   "id": "fc2b0ba330a1c1d1"
  }
 ],
 "metadata": {
  "kernelspec": {
   "display_name": "Python 3",
   "language": "python",
   "name": "python3"
  },
  "language_info": {
   "codemirror_mode": {
    "name": "ipython",
    "version": 2
   },
   "file_extension": ".py",
   "mimetype": "text/x-python",
   "name": "python",
   "nbconvert_exporter": "python",
   "pygments_lexer": "ipython2",
   "version": "2.7.6"
  }
 },
 "nbformat": 4,
 "nbformat_minor": 5
}
